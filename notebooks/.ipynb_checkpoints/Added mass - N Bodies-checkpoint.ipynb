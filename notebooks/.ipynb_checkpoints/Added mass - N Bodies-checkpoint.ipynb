{
 "cells": [
  {
   "cell_type": "markdown",
   "metadata": {},
   "source": [
    "# Added mass - N bodies"
   ]
  },
  {
   "cell_type": "code",
   "execution_count": 1,
   "metadata": {},
   "outputs": [],
   "source": [
    "using ViscousFlow"
   ]
  },
  {
   "cell_type": "code",
   "execution_count": 2,
   "metadata": {},
   "outputs": [],
   "source": [
    "using Plots\n",
    "pyplot()\n",
    "clibrary(:colorbrewer)\n",
    "default(grid = false)"
   ]
  },
  {
   "cell_type": "code",
   "execution_count": 3,
   "metadata": {},
   "outputs": [],
   "source": [
    "using LinearAlgebra"
   ]
  },
  {
   "cell_type": "markdown",
   "metadata": {},
   "source": [
    "### First, some generalities"
   ]
  },
  {
   "cell_type": "code",
   "execution_count": 4,
   "metadata": {},
   "outputs": [],
   "source": [
    "𝐞₁ = [1;0];\n",
    "𝐞₂ = [0;1];"
   ]
  },
  {
   "cell_type": "markdown",
   "metadata": {},
   "source": [
    "#### Create the circular shapes, with discrete points and associated regularization and interpolation operator"
   ]
  },
  {
   "cell_type": "code",
   "execution_count": 44,
   "metadata": {},
   "outputs": [
    {
     "data": {
      "text/plain": [
       "0.7853981633974483"
      ]
     },
     "execution_count": 44,
     "metadata": {},
     "output_type": "execute_result"
    }
   ],
   "source": [
    "n = 196\n",
    "N = 4\n",
    "\n",
    "NX = Int(ceil(sqrt(N)))\n",
    "NY = Int(ceil(N/NX))\n",
    "dX = 1.5\n",
    "\n",
    "R = 0.5\n",
    "\n",
    "bodies = Array{Body,1}(undef, N)\n",
    "\n",
    "index = 0\n",
    "for j in 1:NY\n",
    "    for i in 1:NX\n",
    "        index = index + 1\n",
    "        if index > N\n",
    "            break\n",
    "        end\n",
    "        body = Ellipse(R,R,n)\n",
    "        xc = 1.0 + dX*(i-1)\n",
    "        yc = 1.0 + dX*(j-1)\n",
    "        T = RigidTransform((xc,yc),0.0)\n",
    "        T(body)\n",
    "        bodies[(j-1)*NX+i] = body\n",
    "    end\n",
    "end\n",
    "\n",
    "# Find the minimum arc length\n",
    "ds = minimum(Bodies.dlength(bodies[1]))\n",
    "\n",
    "# Area of the circles\n",
    "𝒱 = π*R^2"
   ]
  },
  {
   "cell_type": "markdown",
   "metadata": {},
   "source": [
    "#### Set up the coordinates and other useful vectors"
   ]
  },
  {
   "cell_type": "code",
   "execution_count": 45,
   "metadata": {},
   "outputs": [],
   "source": [
    "bodies_x = vcat((p->p.x).(bodies)...)\n",
    "bodies_y = vcat((p->p.y).(bodies)...)\n",
    "X = VectorData(bodies_x,bodies_y)\n",
    "f = ScalarData(X);"
   ]
  },
  {
   "cell_type": "markdown",
   "metadata": {},
   "source": [
    "#### Create a grid and a Laplacian operator on it"
   ]
  },
  {
   "cell_type": "code",
   "execution_count": 46,
   "metadata": {},
   "outputs": [],
   "source": [
    "nx = 512;\n",
    "Lx = 2.0 + dX*(NX-1);\n",
    "Ly = 2.0 + dX*(NY-1);\n",
    "dx = Lx/(nx-2);\n",
    "ny = Int(ceil(Ly/dx))+2;\n",
    "w = Nodes(Dual,(nx,ny));"
   ]
  },
  {
   "cell_type": "code",
   "execution_count": 47,
   "metadata": {},
   "outputs": [
    {
     "data": {
      "text/plain": [
       "Discrete Laplacian (and inverse) on a (nx = 512, ny = 512) grid with spacing 1.0"
      ]
     },
     "execution_count": 47,
     "metadata": {},
     "output_type": "execute_result"
    }
   ],
   "source": [
    "L = plan_laplacian(size(w),with_inverse=true)"
   ]
  },
  {
   "cell_type": "code",
   "execution_count": 48,
   "metadata": {},
   "outputs": [
    {
     "name": "stdout",
     "output_type": "stream",
     "text": [
      "Ratio of arc spacing to cell size = 2.3354863689681378\n"
     ]
    }
   ],
   "source": [
    "println(\"Ratio of arc spacing to cell size = \",ds/dx)"
   ]
  },
  {
   "cell_type": "code",
   "execution_count": 49,
   "metadata": {},
   "outputs": [],
   "source": [
    "E = Regularize(X,dx;issymmetric=true)\n",
    "Hmat,Emat = RegularizationMatrix(E,f,w);"
   ]
  },
  {
   "cell_type": "markdown",
   "metadata": {},
   "source": [
    "#### And now create the saddle-point system"
   ]
  },
  {
   "cell_type": "code",
   "execution_count": 50,
   "metadata": {},
   "outputs": [
    {
     "data": {
      "text/plain": [
       "Saddle system with 784 constraints and\n",
       "   State of type Nodes{Dual,512,512}\n",
       "   Force of type ScalarData{784}\n"
      ]
     },
     "execution_count": 50,
     "metadata": {},
     "output_type": "execute_result"
    }
   ],
   "source": [
    "L⁻¹(w::T) where {T} = L\\w\n",
    "PS = SaddleSystem((w,f),(L⁻¹,Hmat,Emat),issymmetric=true,isposdef=true)"
   ]
  },
  {
   "cell_type": "markdown",
   "metadata": {},
   "source": [
    "#### Create some data structures for general use"
   ]
  },
  {
   "cell_type": "code",
   "execution_count": 51,
   "metadata": {},
   "outputs": [],
   "source": [
    "ψb = ScalarData(X)\n",
    "w = Nodes(Dual,(nx,ny))\n",
    "ψ = Nodes(Dual,w);"
   ]
  },
  {
   "cell_type": "markdown",
   "metadata": {},
   "source": [
    "### Solve flow generated by a translating cylinder"
   ]
  },
  {
   "cell_type": "code",
   "execution_count": 52,
   "metadata": {},
   "outputs": [],
   "source": [
    "U = zeros(N,1);\n",
    "V = zeros(N,1);\n",
    "\n",
    "U[1] = 1.0;"
   ]
  },
  {
   "cell_type": "code",
   "execution_count": 53,
   "metadata": {},
   "outputs": [
    {
     "name": "stdout",
     "output_type": "stream",
     "text": [
      "  0.171019 seconds (324 allocations: 50.250 MiB, 21.02% gc time)\n"
     ]
    },
    {
     "data": {
      "text/plain": [
       "(Dual nodes in a (nx = 512, ny = 512) cell grid\n",
       "  Number of Dual nodes: (nx = 512, ny = 512), [0.000410198, 0.00158118, 0.00275341, 0.00393374, 0.00511646, 0.0062836, 0.00745975, 0.00863585, 0.00979944, 0.0109401  …  0.000497792, 0.000506079, 0.000513944, 0.000521057, 0.000527465, 0.000533692, 0.000539498, 0.000544948, 0.000549897, 0.000554922])"
      ]
     },
     "execution_count": 53,
     "metadata": {},
     "output_type": "execute_result"
    }
   ],
   "source": [
    "for i in 1:N\n",
    "    ψb[((i-1)*n+1):((i-1)*n+n)] = U[i]*(bodies[i].y .- bodies[i].cent[2]) - V[i]*(bodies[i].x .- bodies[i].cent[1])\n",
    "end\n",
    "@time ψ,f = PS\\(w,ψb)"
   ]
  },
  {
   "cell_type": "markdown",
   "metadata": {},
   "source": [
    "#### Plot the result"
   ]
  },
  {
   "cell_type": "code",
   "execution_count": 1,
   "metadata": {},
   "outputs": [
    {
     "ename": "UndefVarError",
     "evalue": "UndefVarError: dx not defined",
     "output_type": "error",
     "traceback": [
      "UndefVarError: dx not defined",
      "",
      "Stacktrace:",
      " [1] top-level scope at In[1]:1"
     ]
    }
   ],
   "source": [
    "xg,yg = coordinates(ψ,dx=dx)\n",
    "p = plot(xg,yg,ψ,linecolor=:black,levels=range(-1,1,length=200),size=[800,800])\n",
    "for i in 1:length(bodies)\n",
    "    plot!(bodies[i],fillcolor=:gray,fillrange=0,fillalpha=0.25,linecolor=:black);\n",
    "end\n",
    "p"
   ]
  },
  {
   "cell_type": "code",
   "execution_count": null,
   "metadata": {},
   "outputs": [],
   "source": []
  }
 ],
 "metadata": {
  "@webio": {
   "lastCommId": null,
   "lastKernelId": null
  },
  "kernelspec": {
   "display_name": "Julia 1.1.0",
   "language": "julia",
   "name": "julia-1.1"
  },
  "language_info": {
   "file_extension": ".jl",
   "mimetype": "application/julia",
   "name": "julia",
   "version": "1.1.0"
  }
 },
 "nbformat": 4,
 "nbformat_minor": 2
}
