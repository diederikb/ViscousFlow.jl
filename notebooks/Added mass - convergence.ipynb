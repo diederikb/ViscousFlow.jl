{
 "cells": [
  {
   "cell_type": "markdown",
   "metadata": {},
   "source": [
    "# Added mass - convergence"
   ]
  },
  {
   "cell_type": "code",
   "execution_count": 1,
   "metadata": {},
   "outputs": [],
   "source": [
    "using ViscousFlow"
   ]
  },
  {
   "cell_type": "code",
   "execution_count": 2,
   "metadata": {},
   "outputs": [],
   "source": [
    "using Plots\n",
    "pyplot()\n",
    "clibrary(:colorbrewer)\n",
    "default(grid = false)"
   ]
  },
  {
   "cell_type": "code",
   "execution_count": 3,
   "metadata": {},
   "outputs": [],
   "source": [
    "using LinearAlgebra"
   ]
  },
  {
   "cell_type": "code",
   "execution_count": 4,
   "metadata": {},
   "outputs": [
    {
     "data": {
      "text/plain": [
       "surface_integrate (generic function with 1 method)"
      ]
     },
     "execution_count": 4,
     "metadata": {},
     "output_type": "execute_result"
    }
   ],
   "source": [
    "function surface_integrate(body::Body{N},integrand::Array{Float64,1}) where {N}\n",
    "    func = Array{Float64,1}(undef, N+1)\n",
    "    func[1:end-1] .= integrand\n",
    "    func[end] = integrand[1]\n",
    "    s = sum(Bodies.dlength(body).*(func[1:end-1] + func[2:end]))\n",
    "    return s\n",
    "end"
   ]
  },
  {
   "cell_type": "code",
   "execution_count": 5,
   "metadata": {},
   "outputs": [],
   "source": [
    "𝐞₁ = [1;0];\n",
    "𝐞₂ = [0;1];"
   ]
  },
  {
   "cell_type": "code",
   "execution_count": 9,
   "metadata": {},
   "outputs": [
    {
     "name": "stdout",
     "output_type": "stream",
     "text": [
      "nx = ny = 16; n = 37; ds/dx = 0.5943094081265577;\n",
      "M₁₁ = 2.238787288877447\n",
      "M₁₂ = -0.035524497883116075\n",
      "M₂₁ = -0.06514301796017238\n",
      "M₂₂ = 1.1770709867613949\n",
      "\n",
      "nx = ny = 32; n = 75; ds/dx = 0.6283069638911408;\n",
      "M₁₁ = 1.9687538367391104\n",
      "M₁₂ = -0.017132707406643327\n",
      "M₂₁ = -0.02741975514191873\n",
      "M₂₂ = 0.9503652011795345\n",
      "\n",
      "nx = ny = 64; n = 150; ds/dx = 0.6492150163840529;\n",
      "M₁₁ = 1.8611229707124517\n",
      "M₁₂ = -0.008400405481434097\n",
      "M₂₁ = -0.012989632579710489\n",
      "M₂₂ = 0.8618914161001126\n",
      "\n",
      "nx = ny = 128; n = 301; ds/dx = 0.6575419019522546;\n",
      "M₁₁ = 1.812586976965271\n",
      "M₁₂ = -0.004142746164886867\n",
      "M₂₁ = -0.006300656053046003\n",
      "M₂₂ = 0.8222837091803337\n",
      "\n",
      "nx = ny = 256; n = 603; ds/dx = 0.6616619472360098;\n",
      "M₁₁ = 1.7894905600909903\n",
      "M₁₂ = -0.0020614215868918657\n",
      "M₂₁ = -0.003108551133233434\n",
      "M₂₂ = 0.8035221728032778\n",
      "\n",
      "nx = ny = 512; n = 1206; ds/dx = 0.6642663521001764;\n",
      "M₁₁ = 1.7782290055502972\n",
      "M₁₂ = -0.001026813683160377\n",
      "M₂₁ = -0.001541465724964032\n",
      "M₂₂ = 0.7943798485900044\n",
      "\n",
      "exact solution:\n",
      "M₁₁ = 1.7671458676442586\n",
      "M₁₂ = 0\n",
      "M₂₁ = 0\n",
      "M₂₂ = 0.7853981633974483\n",
      "\n"
     ]
    }
   ],
   "source": [
    "sizes = [2^k for k in 4:9]\n",
    "# gridN = 512\n",
    "i = 0\n",
    "error_M11 = Array{Float64,1}(undef, length(sizes))\n",
    "error_M22 = Array{Float64,1}(undef, length(sizes))\n",
    "\n",
    "a = 0.5\n",
    "b = 0.75\n",
    "\n",
    "for gridN in sizes\n",
    "    i = i+1;\n",
    "    nx = gridN; ny = gridN;\n",
    "    Lx = 2.0;\n",
    "    dx = Lx/(nx-2);\n",
    "    w = Nodes(Dual,(nx,ny));\n",
    "\n",
    "    L = plan_laplacian(size(w),with_inverse=true)\n",
    "\n",
    "    n = Int(floor(2*π*b*nx/Lx))\n",
    "    body = Ellipse(a,b,n)\n",
    "\n",
    "    # Find the minimum arc length\n",
    "    ds = minimum(Bodies.dlength(body))\n",
    "\n",
    "    # Move the ellipse\n",
    "    xc = 1.0; yc = 1.0\n",
    "    T = RigidTransform((xc,yc),0.0)\n",
    "    T(body)\n",
    "\n",
    "    # Area of the ellipse\n",
    "    𝒱 = π*body.a*body.b\n",
    "\n",
    "    X = VectorData(body.x,body.y)\n",
    "    f = ScalarData(X);\n",
    "\n",
    "    E = Regularize(X,dx;issymmetric=true)\n",
    "    Hmat,Emat = RegularizationMatrix(E,f,w);\n",
    "\n",
    "    L⁻¹(w::T) where {T} = L\\w\n",
    "    PS = SaddleSystem((w,f),(L⁻¹,Hmat,Emat),issymmetric=true,isposdef=true)\n",
    "\n",
    "    ψb = ScalarData(X)\n",
    "    w = Nodes(Dual,(nx,ny))\n",
    "    ψ = Nodes(Dual,w);\n",
    "  \n",
    "    # Horizontal unit translation\n",
    "    U = 1;\n",
    "    V = 0;\n",
    "\n",
    "    ψb .= U*(body.y .- body.cent[2]) - V*(body.x .- body.cent[1])\n",
    "    ψ,f = PS\\(w,ψb)\n",
    "\n",
    "    integrand_x = (f./Bodies.dlength(body)).*(body.y);\n",
    "    integrand_y = -(f./Bodies.dlength(body)).*(body.x);\n",
    "\n",
    "    P¹ = -𝒱*𝐞₁ + 0.5*[surface_integrate(body,integrand_x);surface_integrate(body,integrand_y)]\n",
    "\n",
    "    M₁₁ = dot(P¹,𝐞₁)\n",
    "    M₁₂ = dot(P¹,𝐞₂)\n",
    "    \n",
    "    error_M11[i] = M₁₁ - π*b^2;\n",
    "    \n",
    "    # Vertical unit translation\n",
    "    U = 0;\n",
    "    V = 1;\n",
    "\n",
    "    ψb .= U*(body.y .- body.cent[2]) - V*(body.x .- body.cent[1])\n",
    "    ψ,f = PS\\(w,ψb)\n",
    "\n",
    "    integrand_x = (f./Bodies.dlength(body)).*(body.y);\n",
    "    integrand_y = -(f./Bodies.dlength(body)).*(body.x);\n",
    "\n",
    "    P² = -𝒱*𝐞₂ + 0.5*[surface_integrate(body,integrand_x);surface_integrate(body,integrand_y)]\n",
    "\n",
    "    M₂₁ = dot(P²,𝐞₁)\n",
    "    M₂₂ = dot(P²,𝐞₂)\n",
    "    \n",
    "    error_M22[i] = M₂₂ - π*a^2;\n",
    "\n",
    "    println(\"nx = ny = $(nx); n = $(n); ds/dx = $(ds/dx);\\nM₁₁ = $(M₁₁)\\nM₁₂ = $(M₁₂)\\nM₂₁ = $(M₂₁)\\nM₂₂ = $(M₂₂)\\n\")\n",
    "end\n",
    "\n",
    "println(\"exact solution:\\nM₁₁ = $(π*b^2)\\nM₁₂ = 0\\nM₂₁ = 0\\nM₂₂ = $(π*a^2)\\n\")"
   ]
  },
  {
   "cell_type": "markdown",
   "metadata": {},
   "source": [
    "Plot streamfunction"
   ]
  },
  {
   "cell_type": "code",
   "execution_count": 10,
   "metadata": {},
   "outputs": [],
   "source": [
    "# xg,yg = coordinates(ψ,dx=dx)\n",
    "# plot(xg,yg,ψ,linecolor=:black,levels=range(-1,1,length=31))\n",
    "# plot!(body,fillcolor=:black,fillrange=0,fillalpha=0.25,linecolor=:black)"
   ]
  },
  {
   "cell_type": "markdown",
   "metadata": {},
   "source": [
    "Log-log errorplot"
   ]
  },
  {
   "cell_type": "code",
   "execution_count": 11,
   "metadata": {},
   "outputs": [
    {
     "data": {
      "image/png": "[encoded data removed]"
     },
     "execution_count": 11,
     "metadata": {},
     "output_type": "execute_result"
    }
   ],
   "source": [
    "error_firstorder=(1.0e1./sizes).^1\n",
    "# error_secondorder=(1.0e1./sizes).^2\n",
    "xlab = [\"$(sizes[i])\" for i in 1:length(sizes)]; \n",
    "plot(sizes,error_M11,xaxis=:log,yaxis=:log,xticks=(sizes,xlab),marker=:circle,lab=\"M₁₁ error\")\n",
    "plot!(sizes,error_M22,xaxis=:log,yaxis=:log,xticks=(sizes,xlab),marker=:circle,lab=\"M₂₂ error\")\n",
    "plot!(sizes,error_firstorder,lab=\"1st order\",xlabel=\"gridpoints in x and y direction\",linestyle=:dash,linecolor=:black)\n",
    "# plot!(sizes,error_secondorder,lab=\"2nd order\")"
   ]
  },
  {
   "cell_type": "code",
   "execution_count": null,
   "metadata": {},
   "outputs": [],
   "source": []
  }
 ],
 "metadata": {
  "@webio": {
   "lastCommId": null,
   "lastKernelId": null
  },
  "kernelspec": {
   "display_name": "Julia 1.1.0",
   "language": "julia",
   "name": "julia-1.1"
  },
  "language_info": {
   "file_extension": ".jl",
   "mimetype": "application/julia",
   "name": "julia",
   "version": "1.1.0"
  }
 },
 "nbformat": 4,
 "nbformat_minor": 2
}
