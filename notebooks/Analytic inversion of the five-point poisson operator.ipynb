{
 "cells": [
  {
   "cell_type": "markdown",
   "metadata": {},
   "source": [
    "# Analytic inversion of the five-point poisson operator"
   ]
  },
  {
   "cell_type": "code",
   "execution_count": 1,
   "metadata": {},
   "outputs": [],
   "source": [
    "using Pkg\n",
    "Pkg.activate(\"/Users/beckers/Google Drive/Academic/UCLA/CodingInProgress/ViscousFlow.jl\");\n",
    "using ViscousFlow\n",
    "using Plots\n",
    "using LinearAlgebra\n",
    "using DifferentialEquations\n",
    "# pyplot()\n",
    "clibrary(:colorbrewer)\n",
    "default(grid = false)"
   ]
  },
  {
   "cell_type": "markdown",
   "metadata": {},
   "source": [
    "### Grid"
   ]
  },
  {
   "cell_type": "code",
   "execution_count": 56,
   "metadata": {},
   "outputs": [
    {
     "data": {
      "text/plain": [
       "0.007874015748031496"
      ]
     },
     "metadata": {},
     "output_type": "display_data"
    }
   ],
   "source": [
    "nx = 256; ny = 256;\n",
    "Lx = 2.0;\n",
    "dx = Lx/(nx-2);\n",
    "display(dx)\n",
    "w_dual_vorticity = Nodes(Dual,(nx,ny));\n",
    "w_dual_lgf = Nodes(Dual,(nx,ny));\n",
    "w_dual_biot_savart = Nodes(Dual,(nx,ny));\n",
    "xg,yg = coordinates(w_dual_vorticity,dx=dx);\n",
    "coord = [(x,y) for x in xg, y in yg];"
   ]
  },
  {
   "cell_type": "code",
   "execution_count": 57,
   "metadata": {},
   "outputs": [
    {
     "data": {
      "text/plain": [
       "log_function (generic function with 1 method)"
      ]
     },
     "execution_count": 57,
     "metadata": {},
     "output_type": "execute_result"
    }
   ],
   "source": [
    "log_function(r) = 2*(log(r)+3/2*log(2)+0.57721)"
   ]
  },
  {
   "cell_type": "code",
   "execution_count": 58,
   "metadata": {},
   "outputs": [],
   "source": [
    "L = plan_laplacian(size(w_dual_vorticity),with_inverse=true)\n",
    "L⁻¹(w::T) where {T} = L\\w;"
   ]
  },
  {
   "cell_type": "code",
   "execution_count": 59,
   "metadata": {},
   "outputs": [],
   "source": [
    "w_dual_vorticity[Int(nx/2),Int(ny/2)] = 4*pi\n",
    "w_dual_lgf = L\\w_dual_vorticity;\n",
    "w_dual_lgf .-= w_dual_lgf[Int(nx/2),Int(ny/2)];"
   ]
  },
  {
   "cell_type": "code",
   "execution_count": 60,
   "metadata": {},
   "outputs": [
    {
     "data": {
      "image/svg+xml": [
       "<?xml version=\"1.0\" encoding=\"utf-8\"?>\n",
       "<svg xmlns=\"http://www.w3.org/2000/svg\" xmlns:xlink=\"http://www.w3.org/1999/xlink\" width=\"600\" height=\"400\" viewBox=\"0 0 2400 1600\">\n",
       "<defs>\n",
       "  <clipPath id=\"clip5700\">\n",
       "    <rect x=\"0\" y=\"0\" width=\"2400\" height=\"1600\"/>\n",
       "  </clipPath>\n",
       "</defs>\n",
       "<path clip-path=\"url(#clip5700)\" d=\"\n",
       "M0 1600 L2400 1600 L2400 0 L0 0  Z\n",
       "  \" fill=\"#ffffff\" fill-rule=\"evenodd\" fill-opacity=\"1\"/>\n",
       "<defs>\n",
       "  <clipPath id=\"clip5701\">\n",
       "    <rect x=\"480\" y=\"0\" width=\"1681\" height=\"1600\"/>\n",
       "  </clipPath>\n",
       "</defs>\n",
       "<path clip-path=\"url(#clip5700)\" d=\"\n",
       "M140.517 1487.47 L2352.76 1487.47 L2352.76 47.2441 L140.517 47.2441  Z\n",
       "  \" fill=\"#ffffff\" fill-rule=\"evenodd\" fill-opacity=\"1\"/>\n",
       "<defs>\n",
       "  <clipPath id=\"clip5702\">\n",
       "    <rect x=\"140\" y=\"47\" width=\"2213\" height=\"1441\"/>\n",
       "  </clipPath>\n",
       "</defs>\n",
       "<polyline clip-path=\"url(#clip5700)\" style=\"stroke:#000000; stroke-width:4; stroke-opacity:1; fill:none\" points=\"\n",
       "  140.517,1487.47 2352.76,1487.47 \n",
       "  \"/>\n",
       "<polyline clip-path=\"url(#clip5700)\" style=\"stroke:#000000; stroke-width:4; stroke-opacity:1; fill:none\" points=\"\n",
       "  140.517,1487.47 140.517,47.2441 \n",
       "  \"/>\n",
       "<polyline clip-path=\"url(#clip5700)\" style=\"stroke:#000000; stroke-width:4; stroke-opacity:1; fill:none\" points=\"\n",
       "  203.127,1487.47 203.127,1465.87 \n",
       "  \"/>\n",
       "<polyline clip-path=\"url(#clip5700)\" style=\"stroke:#000000; stroke-width:4; stroke-opacity:1; fill:none\" points=\"\n",
       "  529.224,1487.47 529.224,1465.87 \n",
       "  \"/>\n",
       "<polyline clip-path=\"url(#clip5700)\" style=\"stroke:#000000; stroke-width:4; stroke-opacity:1; fill:none\" points=\"\n",
       "  855.32,1487.47 855.32,1465.87 \n",
       "  \"/>\n",
       "<polyline clip-path=\"url(#clip5700)\" style=\"stroke:#000000; stroke-width:4; stroke-opacity:1; fill:none\" points=\"\n",
       "  1181.42,1487.47 1181.42,1465.87 \n",
       "  \"/>\n",
       "<polyline clip-path=\"url(#clip5700)\" style=\"stroke:#000000; stroke-width:4; stroke-opacity:1; fill:none\" points=\"\n",
       "  1507.51,1487.47 1507.51,1465.87 \n",
       "  \"/>\n",
       "<polyline clip-path=\"url(#clip5700)\" style=\"stroke:#000000; stroke-width:4; stroke-opacity:1; fill:none\" points=\"\n",
       "  1833.61,1487.47 1833.61,1465.87 \n",
       "  \"/>\n",
       "<polyline clip-path=\"url(#clip5700)\" style=\"stroke:#000000; stroke-width:4; stroke-opacity:1; fill:none\" points=\"\n",
       "  2159.71,1487.47 2159.71,1465.87 \n",
       "  \"/>\n",
       "<polyline clip-path=\"url(#clip5700)\" style=\"stroke:#000000; stroke-width:4; stroke-opacity:1; fill:none\" points=\"\n",
       "  140.517,1316.5 173.7,1316.5 \n",
       "  \"/>\n",
       "<polyline clip-path=\"url(#clip5700)\" style=\"stroke:#000000; stroke-width:4; stroke-opacity:1; fill:none\" points=\"\n",
       "  140.517,1126.6 173.7,1126.6 \n",
       "  \"/>\n",
       "<polyline clip-path=\"url(#clip5700)\" style=\"stroke:#000000; stroke-width:4; stroke-opacity:1; fill:none\" points=\"\n",
       "  140.517,936.69 173.7,936.69 \n",
       "  \"/>\n",
       "<polyline clip-path=\"url(#clip5700)\" style=\"stroke:#000000; stroke-width:4; stroke-opacity:1; fill:none\" points=\"\n",
       "  140.517,746.784 173.7,746.784 \n",
       "  \"/>\n",
       "<polyline clip-path=\"url(#clip5700)\" style=\"stroke:#000000; stroke-width:4; stroke-opacity:1; fill:none\" points=\"\n",
       "  140.517,556.877 173.7,556.877 \n",
       "  \"/>\n",
       "<polyline clip-path=\"url(#clip5700)\" style=\"stroke:#000000; stroke-width:4; stroke-opacity:1; fill:none\" points=\"\n",
       "  140.517,366.971 173.7,366.971 \n",
       "  \"/>\n",
       "<polyline clip-path=\"url(#clip5700)\" style=\"stroke:#000000; stroke-width:4; stroke-opacity:1; fill:none\" points=\"\n",
       "  140.517,177.064 173.7,177.064 \n",
       "  \"/>\n",
       "<g clip-path=\"url(#clip5700)\">\n",
       "<text style=\"fill:#000000; fill-opacity:1; font-family:Arial,Helvetica Neue,Helvetica,sans-serif; font-size:48px; text-anchor:middle;\" transform=\"rotate(0, 203.127, 1541.47)\" x=\"203.127\" y=\"1541.47\">0</text>\n",
       "</g>\n",
       "<g clip-path=\"url(#clip5700)\">\n",
       "<text style=\"fill:#000000; fill-opacity:1; font-family:Arial,Helvetica Neue,Helvetica,sans-serif; font-size:48px; text-anchor:middle;\" transform=\"rotate(0, 529.224, 1541.47)\" x=\"529.224\" y=\"1541.47\">20</text>\n",
       "</g>\n",
       "<g clip-path=\"url(#clip5700)\">\n",
       "<text style=\"fill:#000000; fill-opacity:1; font-family:Arial,Helvetica Neue,Helvetica,sans-serif; font-size:48px; text-anchor:middle;\" transform=\"rotate(0, 855.32, 1541.47)\" x=\"855.32\" y=\"1541.47\">40</text>\n",
       "</g>\n",
       "<g clip-path=\"url(#clip5700)\">\n",
       "<text style=\"fill:#000000; fill-opacity:1; font-family:Arial,Helvetica Neue,Helvetica,sans-serif; font-size:48px; text-anchor:middle;\" transform=\"rotate(0, 1181.42, 1541.47)\" x=\"1181.42\" y=\"1541.47\">60</text>\n",
       "</g>\n",
       "<g clip-path=\"url(#clip5700)\">\n",
       "<text style=\"fill:#000000; fill-opacity:1; font-family:Arial,Helvetica Neue,Helvetica,sans-serif; font-size:48px; text-anchor:middle;\" transform=\"rotate(0, 1507.51, 1541.47)\" x=\"1507.51\" y=\"1541.47\">80</text>\n",
       "</g>\n",
       "<g clip-path=\"url(#clip5700)\">\n",
       "<text style=\"fill:#000000; fill-opacity:1; font-family:Arial,Helvetica Neue,Helvetica,sans-serif; font-size:48px; text-anchor:middle;\" transform=\"rotate(0, 1833.61, 1541.47)\" x=\"1833.61\" y=\"1541.47\">100</text>\n",
       "</g>\n",
       "<g clip-path=\"url(#clip5700)\">\n",
       "<text style=\"fill:#000000; fill-opacity:1; font-family:Arial,Helvetica Neue,Helvetica,sans-serif; font-size:48px; text-anchor:middle;\" transform=\"rotate(0, 2159.71, 1541.47)\" x=\"2159.71\" y=\"1541.47\">120</text>\n",
       "</g>\n",
       "<g clip-path=\"url(#clip5700)\">\n",
       "<text style=\"fill:#000000; fill-opacity:1; font-family:Arial,Helvetica Neue,Helvetica,sans-serif; font-size:48px; text-anchor:end;\" transform=\"rotate(0, 116.517, 1334)\" x=\"116.517\" y=\"1334\">0</text>\n",
       "</g>\n",
       "<g clip-path=\"url(#clip5700)\">\n",
       "<text style=\"fill:#000000; fill-opacity:1; font-family:Arial,Helvetica Neue,Helvetica,sans-serif; font-size:48px; text-anchor:end;\" transform=\"rotate(0, 116.517, 1144.1)\" x=\"116.517\" y=\"1144.1\">2</text>\n",
       "</g>\n",
       "<g clip-path=\"url(#clip5700)\">\n",
       "<text style=\"fill:#000000; fill-opacity:1; font-family:Arial,Helvetica Neue,Helvetica,sans-serif; font-size:48px; text-anchor:end;\" transform=\"rotate(0, 116.517, 954.19)\" x=\"116.517\" y=\"954.19\">4</text>\n",
       "</g>\n",
       "<g clip-path=\"url(#clip5700)\">\n",
       "<text style=\"fill:#000000; fill-opacity:1; font-family:Arial,Helvetica Neue,Helvetica,sans-serif; font-size:48px; text-anchor:end;\" transform=\"rotate(0, 116.517, 764.284)\" x=\"116.517\" y=\"764.284\">6</text>\n",
       "</g>\n",
       "<g clip-path=\"url(#clip5700)\">\n",
       "<text style=\"fill:#000000; fill-opacity:1; font-family:Arial,Helvetica Neue,Helvetica,sans-serif; font-size:48px; text-anchor:end;\" transform=\"rotate(0, 116.517, 574.377)\" x=\"116.517\" y=\"574.377\">8</text>\n",
       "</g>\n",
       "<g clip-path=\"url(#clip5700)\">\n",
       "<text style=\"fill:#000000; fill-opacity:1; font-family:Arial,Helvetica Neue,Helvetica,sans-serif; font-size:48px; text-anchor:end;\" transform=\"rotate(0, 116.517, 384.471)\" x=\"116.517\" y=\"384.471\">10</text>\n",
       "</g>\n",
       "<g clip-path=\"url(#clip5700)\">\n",
       "<text style=\"fill:#000000; fill-opacity:1; font-family:Arial,Helvetica Neue,Helvetica,sans-serif; font-size:48px; text-anchor:end;\" transform=\"rotate(0, 116.517, 194.564)\" x=\"116.517\" y=\"194.564\">12</text>\n",
       "</g>\n",
       "<polyline clip-path=\"url(#clip5702)\" style=\"stroke:#009af9; stroke-width:4; stroke-opacity:1; fill:none\" points=\"\n",
       "  204.758,1446.71 206.388,1315.08 208.019,1238.08 209.649,1183.45 211.28,1141.07 212.91,1106.45 214.541,1077.17 216.171,1051.81 217.802,1029.45 219.432,1009.44 \n",
       "  221.063,991.338 222.693,974.814 224.324,959.613 225.954,945.539 227.585,932.437 229.215,920.181 230.846,908.668 232.476,897.813 234.107,887.545 235.737,877.804 \n",
       "  237.367,868.539 238.998,859.704 240.628,851.263 242.259,843.18 243.889,835.428 245.52,827.98 247.15,820.813 248.781,813.906 250.411,807.242 252.042,800.804 \n",
       "  253.672,794.577 255.303,788.548 256.933,782.704 258.564,777.035 260.194,771.53 261.825,766.18 263.455,760.977 265.086,755.912 266.716,750.979 268.347,746.171 \n",
       "  269.977,741.482 271.608,736.906 273.238,732.437 274.869,728.071 276.499,723.803 278.13,719.63 279.76,715.545 281.391,711.547 283.021,707.631 284.651,703.795 \n",
       "  286.282,700.034 287.912,696.347 289.543,692.729 291.173,689.179 292.804,685.695 294.434,682.273 296.065,678.912 297.695,675.609 299.326,672.363 300.956,669.171 \n",
       "  302.587,666.032 304.217,662.944 305.848,659.905 307.478,656.915 309.109,653.97 310.739,651.071 312.37,648.215 314,645.401 315.631,642.629 317.261,639.897 \n",
       "  318.892,637.203 320.522,634.547 322.153,631.927 323.783,629.344 325.414,626.794 327.044,624.279 328.675,621.797 330.305,619.346 331.935,616.927 333.566,614.538 \n",
       "  335.196,612.179 336.827,609.849 338.457,607.547 340.088,605.273 341.718,603.025 343.349,600.804 344.979,598.608 346.61,596.438 348.24,594.292 349.871,592.17 \n",
       "  351.501,590.072 353.132,587.996 354.762,585.943 356.393,583.912 358.023,581.903 359.654,579.914 361.284,577.946 362.915,575.998 364.545,574.07 366.176,572.162 \n",
       "  \n",
       "  \"/>\n",
       "<polyline clip-path=\"url(#clip5702)\" style=\"stroke:#e26f46; stroke-width:4; stroke-opacity:1; fill:none\" points=\"\n",
       "  203.127,1316.5 219.432,1018.2 235.737,882.912 252.042,803.084 268.347,747.346 284.651,704.499 300.956,669.641 317.261,640.235 333.566,614.793 349.871,592.37 \n",
       "  366.176,572.322 382.48,554.194 398.785,537.648 415.09,522.431 431.395,508.344 447.7,495.231 464.005,482.966 480.309,471.446 496.614,460.585 512.919,450.312 \n",
       "  529.224,440.567 545.529,431.298 561.834,422.46 578.138,414.016 594.443,405.931 610.748,398.176 627.053,390.726 643.358,383.557 659.663,376.649 675.967,369.984 \n",
       "  692.272,363.545 708.577,357.316 724.882,351.286 741.187,345.442 757.492,339.771 773.796,334.266 790.101,328.915 806.406,323.711 822.711,318.646 839.016,313.713 \n",
       "  855.32,308.904 871.625,304.214 887.93,299.638 904.235,295.169 920.54,290.802 936.845,286.534 953.149,282.36 969.454,278.276 985.759,274.277 1002.06,270.361 \n",
       "  1018.37,266.524 1034.67,262.763 1050.98,259.075 1067.28,255.458 1083.59,251.908 1099.89,248.423 1116.2,245.001 1132.5,241.64 1148.81,238.337 1165.11,235.09 \n",
       "  1181.42,231.898 1197.72,228.759 1214.03,225.671 1230.33,222.632 1246.64,219.641 1262.94,216.697 1279.25,213.797 1295.55,210.942 1311.86,208.128 1328.16,205.355 \n",
       "  1344.47,202.623 1360.77,199.929 1377.07,197.273 1393.38,194.653 1409.68,192.069 1425.99,189.52 1442.29,187.005 1458.6,184.522 1474.9,182.072 1491.21,179.652 \n",
       "  1507.51,177.264 1523.82,174.904 1540.12,172.574 1556.43,170.272 1572.73,167.998 1589.04,165.75 1605.34,163.529 1621.65,161.334 1637.95,159.163 1654.26,157.017 \n",
       "  1670.56,154.895 1686.87,152.797 1703.17,150.721 1719.48,148.668 1735.78,146.637 1752.09,144.627 1768.39,142.639 1784.7,140.671 1801,138.723 1817.31,136.795 \n",
       "  1833.61,134.886 1849.92,132.997 1866.22,131.126 1882.52,129.273 1898.83,127.438 1915.13,125.621 1931.44,123.82 1947.74,122.037 1964.05,120.271 1980.35,118.52 \n",
       "  1996.66,116.786 2012.96,115.067 2029.27,113.364 2045.57,111.676 2061.88,110.003 2078.18,108.344 2094.49,106.7 2110.79,105.07 2127.1,103.454 2143.4,101.851 \n",
       "  2159.71,100.262 2176.01,98.6857 2192.32,97.1227 2208.62,95.5724 2224.93,94.0347 2241.23,92.5093 2257.54,90.9961 2273.84,89.4948 2290.15,88.0053 \n",
       "  \"/>\n",
       "<path clip-path=\"url(#clip5700)\" d=\"\n",
       "M1626.13 312.204 L2280.76 312.204 L2280.76 130.764 L1626.13 130.764  Z\n",
       "  \" fill=\"#ffffff\" fill-rule=\"evenodd\" fill-opacity=\"1\"/>\n",
       "<polyline clip-path=\"url(#clip5700)\" style=\"stroke:#000000; stroke-width:4; stroke-opacity:1; fill:none\" points=\"\n",
       "  1626.13,312.204 2280.76,312.204 2280.76,130.764 1626.13,130.764 1626.13,312.204 \n",
       "  \"/>\n",
       "<polyline clip-path=\"url(#clip5700)\" style=\"stroke:#009af9; stroke-width:4; stroke-opacity:1; fill:none\" points=\"\n",
       "  1650.13,191.244 1794.13,191.244 \n",
       "  \"/>\n",
       "<g clip-path=\"url(#clip5700)\">\n",
       "<text style=\"fill:#000000; fill-opacity:1; font-family:Arial,Helvetica Neue,Helvetica,sans-serif; font-size:48px; text-anchor:start;\" transform=\"rotate(0, 1818.13, 208.744)\" x=\"1818.13\" y=\"208.744\">logarithmic function</text>\n",
       "</g>\n",
       "<polyline clip-path=\"url(#clip5700)\" style=\"stroke:#e26f46; stroke-width:4; stroke-opacity:1; fill:none\" points=\"\n",
       "  1650.13,251.724 1794.13,251.724 \n",
       "  \"/>\n",
       "<g clip-path=\"url(#clip5700)\">\n",
       "<text style=\"fill:#000000; fill-opacity:1; font-family:Arial,Helvetica Neue,Helvetica,sans-serif; font-size:48px; text-anchor:start;\" transform=\"rotate(0, 1818.13, 269.224)\" x=\"1818.13\" y=\"269.224\">LGF</text>\n",
       "</g>\n",
       "</svg>\n"
      ]
     },
     "execution_count": 60,
     "metadata": {},
     "output_type": "execute_result"
    }
   ],
   "source": [
    "r_range = 0:0.1:10\n",
    "x_range = xg[Int(nx/2):nx].-xg[Int(nx/2)]\n",
    "\n",
    "plot(r_range,log_function.(r_range),label=\"logarithmic function\")\n",
    "plot!(x_range/dx,w_dual_lgf[Int(nx/2):nx,Int(ny/2)],label=\"LGF\")"
   ]
  },
  {
   "cell_type": "code",
   "execution_count": null,
   "metadata": {},
   "outputs": [],
   "source": []
  }
 ],
 "metadata": {
  "kernelspec": {
   "display_name": "Julia 1.1.0",
   "language": "julia",
   "name": "julia-1.1"
  },
  "language_info": {
   "file_extension": ".jl",
   "mimetype": "application/julia",
   "name": "julia",
   "version": "1.1.0"
  }
 },
 "nbformat": 4,
 "nbformat_minor": 2
}
