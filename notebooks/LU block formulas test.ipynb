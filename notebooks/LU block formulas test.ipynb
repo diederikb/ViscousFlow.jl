{
 "cells": [
  {
   "cell_type": "code",
   "execution_count": 110,
   "metadata": {},
   "outputs": [],
   "source": [
    "using Random\n",
    "using LinearAlgebra\n",
    "using Test"
   ]
  },
  {
   "cell_type": "code",
   "execution_count": 111,
   "metadata": {},
   "outputs": [],
   "source": [
    "m = 8; # number of eulerian points\n",
    "n = 4; # number of lagrangian points"
   ]
  },
  {
   "cell_type": "code",
   "execution_count": 120,
   "metadata": {},
   "outputs": [
    {
     "data": {
      "text/plain": [
       "0.7101875171994803"
      ]
     },
     "execution_count": 120,
     "metadata": {},
     "output_type": "execute_result"
    }
   ],
   "source": [
    "L = rand(m,m)\n",
    "H = rand(m,n)\n",
    "E = transpose(H)\n",
    "Ob = rand(n)\n",
    "ObT = transpose(Ob)\n",
    "ψ = rand(m)\n",
    "f = rand(n)\n",
    "w = rand(m)\n",
    "ψb = rand(n)\n",
    "Γ₀ = rand(1)[1]"
   ]
  },
  {
   "cell_type": "code",
   "execution_count": 121,
   "metadata": {},
   "outputs": [
    {
     "data": {
      "text/plain": [
       "13-element Array{Float64,1}:\n",
       " -0.48164389261823604 \n",
       " -0.961996197526332   \n",
       " -0.02776373964223766 \n",
       " -0.11012024689783839 \n",
       " -0.5266257011257227  \n",
       " -0.31272045816148664 \n",
       " -0.6454635481971871  \n",
       " -0.004470568423669663\n",
       "  0.516821143130016   \n",
       "  0.9832645937117364  \n",
       "  0.9808537467207981  \n",
       "  0.9583119038103773  \n",
       "  0.7101875171994803  "
      ]
     },
     "execution_count": 121,
     "metadata": {},
     "output_type": "execute_result"
    }
   ],
   "source": [
    "rhs = [-w; ψb; Γ₀]"
   ]
  },
  {
   "cell_type": "code",
   "execution_count": 122,
   "metadata": {},
   "outputs": [
    {
     "data": {
      "text/plain": [
       "13×13 Array{Float64,2}:\n",
       " 0.57974    0.121081   0.942555   …  0.994905   0.395382   0.0     \n",
       " 0.151898   0.0832124  0.413634      0.983944   0.776745   0.0     \n",
       " 0.969724   0.430727   0.576185      0.416405   0.0517104  0.0     \n",
       " 0.354825   0.677046   0.321422      0.0505648  0.0589594  0.0     \n",
       " 0.967443   0.230301   0.100671      0.0947762  0.913583   0.0     \n",
       " 0.110904   0.0165742  0.252508   …  0.653836   0.0854262  0.0     \n",
       " 0.0258994  0.342419   0.587425      0.522501   0.858554   0.0     \n",
       " 0.657777   0.360769   0.293889      0.151247   0.750362   0.0     \n",
       " 0.297403   0.817389   0.71159       0.0        0.0        0.684626\n",
       " 0.994211   0.0366242  0.511697      0.0        0.0        0.221126\n",
       " 0.994905   0.983944   0.416405   …  0.0        0.0        0.330385\n",
       " 0.395382   0.776745   0.0517104     0.0        0.0        0.180784\n",
       " 0.0        0.0        0.0           0.330385   0.180784   0.0     "
      ]
     },
     "execution_count": 122,
     "metadata": {},
     "output_type": "execute_result"
    }
   ],
   "source": [
    "sys = [L H zeros(m,1); E zeros(n,n) Ob; zeros(1,m) ObT zeros(1,1)]"
   ]
  },
  {
   "cell_type": "code",
   "execution_count": 123,
   "metadata": {},
   "outputs": [
    {
     "data": {
      "text/plain": [
       "13-element Array{Float64,1}:\n",
       " -1.0713090591345231 \n",
       "  4.751687562942738  \n",
       "  7.639539647407677  \n",
       " -2.8905430346301455 \n",
       "  8.306853112202706  \n",
       " -2.7674979716163732 \n",
       " -9.889845918361354  \n",
       " -2.52098342226877   \n",
       "  1.1524697485796591 \n",
       "  2.283554662494075  \n",
       " -2.0364443844089624 \n",
       "  0.49249049210713813\n",
       "  2.7460899569474106 "
      ]
     },
     "execution_count": 123,
     "metadata": {},
     "output_type": "execute_result"
    }
   ],
   "source": [
    "x = sys\\rhs"
   ]
  },
  {
   "cell_type": "markdown",
   "metadata": {},
   "source": [
    "Eldredge formulas"
   ]
  },
  {
   "cell_type": "code",
   "execution_count": 124,
   "metadata": {},
   "outputs": [
    {
     "data": {
      "text/plain": [
       "2.0224286403799803"
      ]
     },
     "metadata": {},
     "output_type": "display_data"
    },
    {
     "data": {
      "text/plain": [
       "4-element Array{Float64,1}:\n",
       "  0.7314910650868407\n",
       "  2.2794281737143796\n",
       " -1.3736277521915408\n",
       "  0.880471561195129 "
      ]
     },
     "metadata": {},
     "output_type": "display_data"
    },
    {
     "data": {
      "text/plain": [
       "8-element Array{Float64,1}:\n",
       "  -1.738564298100444 \n",
       "   5.498857798582059 \n",
       "   8.865289740948477 \n",
       "  -3.301895666856788 \n",
       "   9.874928550548127 \n",
       "  -2.0268687250321147\n",
       " -11.629392270512358 \n",
       "  -2.8237529720971315"
      ]
     },
     "metadata": {},
     "output_type": "display_data"
    }
   ],
   "source": [
    "S = -E*inv(L)*H\n",
    "S₀ = ObT*(S\\Ob)\n",
    "T = S - Ob*ObT/S₀;\n",
    "\n",
    "ψ₀ = -1/S₀*(Γ₀ - ObT*(S\\ψb));\n",
    "display(ψ₀)\n",
    "f = S\\(T*(S\\ψb) .+ Γ₀*Ob/S₀);\n",
    "display(f)\n",
    "ψ .= -(L\\(H*f)); # Total streamfunction\n",
    "display(ψ)"
   ]
  },
  {
   "cell_type": "code",
   "execution_count": 125,
   "metadata": {},
   "outputs": [
    {
     "name": "stdout",
     "output_type": "stream",
     "text": [
      "\u001b[91m\u001b[1mTest Failed\u001b[22m\u001b[39m at \u001b[39m\u001b[1mIn[125]:1\u001b[22m\n",
      "  Expression: ≈(x, [ψ; f; ψ₀], atol=0.01)\n",
      "   Evaluated: [-1.07131, 4.75169, 7.63954, -2.89054, 8.30685, -2.7675, -9.88985, -2.52098, 1.15247, 2.28355, -2.03644, 0.49249, 2.74609] ≈ [-1.73856, 5.49886, 8.86529, -3.3019, 9.87493, -2.02687, -11.6294, -2.82375, 0.731491, 2.27943, -1.37363, 0.880472, 2.02243] (atol=0.01) \n"
     ]
    },
    {
     "ename": "Test.FallbackTestSetException",
     "evalue": "There was an error during testing",
     "output_type": "error",
     "traceback": [
      "There was an error during testing",
      "",
      "Stacktrace:",
      " [1] record(::Test.FallbackTestSet, ::Test.Fail) at /Users/osx/buildbot/slave/package_osx64/build/usr/share/julia/stdlib/v1.1/Test/src/Test.jl:707",
      " [2] do_test(::Test.Returned, ::Expr) at /Users/osx/buildbot/slave/package_osx64/build/usr/share/julia/stdlib/v1.1/Test/src/Test.jl:496",
      " [3] top-level scope at In[125]:1"
     ]
    }
   ],
   "source": [
    "@test x ≈ [ψ; f; ψ₀] atol=0.01"
   ]
  },
  {
   "cell_type": "markdown",
   "metadata": {},
   "source": [
    "Newly derived formulas"
   ]
  },
  {
   "cell_type": "code",
   "execution_count": 128,
   "metadata": {},
   "outputs": [
    {
     "data": {
      "text/plain": [
       "2.746089956947396"
      ]
     },
     "metadata": {},
     "output_type": "display_data"
    },
    {
     "data": {
      "text/plain": [
       "4-element Array{Float64,1}:\n",
       "  1.1524697485796598\n",
       "  2.2835546624940615\n",
       " -2.036444384408952 \n",
       "  0.4924904921071318"
      ]
     },
     "metadata": {},
     "output_type": "display_data"
    },
    {
     "data": {
      "text/plain": [
       "8-element Array{Float64,1}:\n",
       " -1.071309059134515 \n",
       "  4.751687562942726 \n",
       "  7.63953964740766  \n",
       " -2.89054303463015  \n",
       "  8.306853112202685 \n",
       " -2.7674979716163555\n",
       " -9.889845918361326 \n",
       " -2.5209834222687664"
      ]
     },
     "metadata": {},
     "output_type": "display_data"
    }
   ],
   "source": [
    "S = -E*inv(L)*H\n",
    "S₀ = ObT*(S\\Ob)\n",
    "T = S - Ob*ObT/S₀;\n",
    "\n",
    "ψ₀ = -1/S₀*(Γ₀ .- ObT*(S\\(E*(L\\w).+ψb)));\n",
    "display(ψ₀)\n",
    "f = S\\(T*(S\\(E*(L\\w).+ψb)) .+ Γ₀*Ob/S₀);\n",
    "display(f)\n",
    "ψ = -(L\\(H*f.+w));\n",
    "display(ψ)"
   ]
  },
  {
   "cell_type": "code",
   "execution_count": 129,
   "metadata": {},
   "outputs": [
    {
     "data": {
      "text/plain": [
       "\u001b[32m\u001b[1mTest Passed\u001b[22m\u001b[39m"
      ]
     },
     "execution_count": 129,
     "metadata": {},
     "output_type": "execute_result"
    }
   ],
   "source": [
    "@test x ≈ [ψ; f; ψ₀] atol=0.01"
   ]
  },
  {
   "cell_type": "code",
   "execution_count": null,
   "metadata": {},
   "outputs": [],
   "source": []
  }
 ],
 "metadata": {
  "@webio": {
   "lastCommId": null,
   "lastKernelId": null
  },
  "kernelspec": {
   "display_name": "Julia 1.1.0",
   "language": "julia",
   "name": "julia-1.1"
  },
  "language_info": {
   "file_extension": ".jl",
   "mimetype": "application/julia",
   "name": "julia",
   "version": "1.1.0"
  }
 },
 "nbformat": 4,
 "nbformat_minor": 2
}
